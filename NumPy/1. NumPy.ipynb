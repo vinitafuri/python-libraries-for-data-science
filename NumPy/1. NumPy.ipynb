{
 "cells": [
  {
   "cell_type": "markdown",
   "id": "3ae9e325-35c4-4071-825e-6e34fc9b2065",
   "metadata": {},
   "source": [
    "# NumPy\n",
    "\n",
    "A biblioteca permite realizar operações matemáticas dos mais diversos tipos.\n",
    "\n",
    "O que a torna tão importante é o fato de que a maioria das bibliotecas utilizadas em Data Science dependem dela."
   ]
  },
  {
   "cell_type": "code",
   "execution_count": 1,
   "id": "a52e19a0-36c1-4e7b-aa1c-017279e383dd",
   "metadata": {},
   "outputs": [],
   "source": [
    "import numpy as np"
   ]
  },
  {
   "cell_type": "markdown",
   "id": "1ffb5b70-f21b-4c0c-be0a-acef982dd937",
   "metadata": {},
   "source": [
    "## 1. NumPy Arrays\n",
    "\n",
    "### 1.1 Criando arrays a partir de listas.\n",
    "\n",
    "É possível criar tanto **vetores** quanto **matrizes**."
   ]
  },
  {
   "cell_type": "code",
   "execution_count": 3,
   "id": "6a09eace-bae7-48b8-af0e-2be6be7bdd85",
   "metadata": {},
   "outputs": [],
   "source": [
    "lista = [1,2,3]\n",
    "array = np.array(lista)"
   ]
  },
  {
   "cell_type": "code",
   "execution_count": 4,
   "id": "29106f20-7013-42e4-adda-21a15aad1269",
   "metadata": {},
   "outputs": [
    {
     "data": {
      "text/plain": [
       "(list, numpy.ndarray)"
      ]
     },
     "execution_count": 4,
     "metadata": {},
     "output_type": "execute_result"
    }
   ],
   "source": [
    "type(lista), type(array)"
   ]
  },
  {
   "cell_type": "code",
   "execution_count": 5,
   "id": "ab282404-ad7e-45db-b677-f934caf9310f",
   "metadata": {},
   "outputs": [
    {
     "data": {
      "text/plain": [
       "array([1, 2, 3])"
      ]
     },
     "execution_count": 5,
     "metadata": {},
     "output_type": "execute_result"
    }
   ],
   "source": [
    "array"
   ]
  },
  {
   "cell_type": "code",
   "execution_count": 6,
   "id": "54da3fe5-470d-44f4-8c2c-a8cf4d47c491",
   "metadata": {},
   "outputs": [],
   "source": [
    "matriz = [[1,2,3],[4,5,6],[7,8,9]]"
   ]
  },
  {
   "cell_type": "code",
   "execution_count": 7,
   "id": "1fcd30a9-eb64-41de-961c-76a7a55fd33c",
   "metadata": {},
   "outputs": [
    {
     "data": {
      "text/plain": [
       "array([[1, 2, 3],\n",
       "       [4, 5, 6],\n",
       "       [7, 8, 9]])"
      ]
     },
     "execution_count": 7,
     "metadata": {},
     "output_type": "execute_result"
    }
   ],
   "source": [
    "np.array(matriz)"
   ]
  },
  {
   "cell_type": "markdown",
   "id": "6d50f47f-e372-4bda-ac9d-0579ede55fbf",
   "metadata": {},
   "source": [
    "### 1.2 Outros métodos de gerar arrays\n",
    "\n",
    "Na biblioteca NumPy existem vários métodos para criar arrays de acordo com a nossa necessidade."
   ]
  },
  {
   "cell_type": "markdown",
   "id": "9b779925-bedf-4544-90ef-2e778bfc2854",
   "metadata": {},
   "source": [
    "#### arange\n",
    "\n",
    "Retorna um array com valores **igualmente espaçados** num dado intervalo."
   ]
  },
  {
   "cell_type": "code",
   "execution_count": 8,
   "id": "60f96c41-782b-4dee-99b2-87d17081eed2",
   "metadata": {},
   "outputs": [
    {
     "data": {
      "text/plain": [
       "array([  0,  10,  20,  30,  40,  50,  60,  70,  80,  90, 100])"
      ]
     },
     "execution_count": 8,
     "metadata": {},
     "output_type": "execute_result"
    }
   ],
   "source": [
    "#gerando um array de 0 até 100 de 10 em 10\n",
    "inicio = 0\n",
    "fim = 101 #não é inclusivo!!\n",
    "intervalo = 10 #a configuração default é 1\n",
    "\n",
    "np.arange(inicio, fim, intervalo)"
   ]
  },
  {
   "cell_type": "markdown",
   "id": "8397a1d6-354f-4947-a84e-bb8ca2c9b65a",
   "metadata": {},
   "source": [
    "#### linspace\n",
    "\n",
    "Retorna um array com valores igualmente espaçados com intervalo e número de pontos definidos."
   ]
  },
  {
   "cell_type": "code",
   "execution_count": 27,
   "id": "bafcba87-428a-4eaa-b16d-87d84fdedf0a",
   "metadata": {},
   "outputs": [
    {
     "data": {
      "text/plain": [
       "array([  0.        ,  11.11111111,  22.22222222,  33.33333333,\n",
       "        44.44444444,  55.55555556,  66.66666667,  77.77777778,\n",
       "        88.88888889, 100.        ])"
      ]
     },
     "execution_count": 27,
     "metadata": {},
     "output_type": "execute_result"
    }
   ],
   "source": [
    "#array de 0 a 100 com 10 pontos\n",
    "inicio = 0\n",
    "fim = 100 #dessa vez é inclusivo\n",
    "pontos = 10\n",
    "\n",
    "np.linspace(inicio, fim, pontos)"
   ]
  },
  {
   "cell_type": "markdown",
   "id": "807729a5-d88c-4371-91a4-d46709c94eeb",
   "metadata": {},
   "source": [
    "#### zeros, ones e eye\n",
    "\n",
    "É possível gerar vetores e matrizes com todos os elementos nulos (zeros), iguais a um (ones) e a matriz identidade (eye)."
   ]
  },
  {
   "cell_type": "code",
   "execution_count": 9,
   "id": "9b82ea43-5d15-4133-bf7c-e5b8e2e168e0",
   "metadata": {},
   "outputs": [
    {
     "data": {
      "text/plain": [
       "array([0., 0., 0., 0., 0.])"
      ]
     },
     "execution_count": 9,
     "metadata": {},
     "output_type": "execute_result"
    }
   ],
   "source": [
    "np.zeros(5)"
   ]
  },
  {
   "cell_type": "code",
   "execution_count": 10,
   "id": "d358580d-e595-4d71-972b-76c215661cfa",
   "metadata": {},
   "outputs": [
    {
     "data": {
      "text/plain": [
       "array([1., 1., 1., 1., 1.])"
      ]
     },
     "execution_count": 10,
     "metadata": {},
     "output_type": "execute_result"
    }
   ],
   "source": [
    "np.ones(5)"
   ]
  },
  {
   "cell_type": "code",
   "execution_count": 14,
   "id": "70ae92f0-71a9-4fd9-94d3-627a928b3426",
   "metadata": {},
   "outputs": [],
   "source": [
    "#definindo o número de linhas e colunas de uma matriz\n",
    "linhas = 3\n",
    "colunas = 4"
   ]
  },
  {
   "cell_type": "code",
   "execution_count": 15,
   "id": "4db9fbbe-fb14-4ab8-a0aa-5bb84aad72eb",
   "metadata": {},
   "outputs": [
    {
     "data": {
      "text/plain": [
       "array([[0., 0., 0., 0.],\n",
       "       [0., 0., 0., 0.],\n",
       "       [0., 0., 0., 0.]])"
      ]
     },
     "execution_count": 15,
     "metadata": {},
     "output_type": "execute_result"
    }
   ],
   "source": [
    "np.zeros((linhas,colunas))"
   ]
  },
  {
   "cell_type": "code",
   "execution_count": 16,
   "id": "deb16483-295f-4543-8cd4-682f24ddb366",
   "metadata": {},
   "outputs": [
    {
     "data": {
      "text/plain": [
       "array([[1., 1., 1., 1.],\n",
       "       [1., 1., 1., 1.],\n",
       "       [1., 1., 1., 1.]])"
      ]
     },
     "execution_count": 16,
     "metadata": {},
     "output_type": "execute_result"
    }
   ],
   "source": [
    "np.ones((linhas,colunas))"
   ]
  },
  {
   "cell_type": "code",
   "execution_count": 17,
   "id": "6b1096c6-369b-4b3c-a228-925b4bc0438b",
   "metadata": {},
   "outputs": [
    {
     "data": {
      "text/plain": [
       "array([[1., 0., 0.],\n",
       "       [0., 1., 0.],\n",
       "       [0., 0., 1.]])"
      ]
     },
     "execution_count": 17,
     "metadata": {},
     "output_type": "execute_result"
    }
   ],
   "source": [
    "#matriz identidade 3x3 (3 linhas e 3 colunas)\n",
    "np.eye(3)"
   ]
  },
  {
   "cell_type": "markdown",
   "id": "37919998-11eb-4ef6-91bd-683da76b380c",
   "metadata": {},
   "source": [
    "### 1.3 Random\n",
    "\n",
    "Gerador de números aleatórios."
   ]
  },
  {
   "cell_type": "markdown",
   "id": "d87b50b8-2a14-47e7-af8e-6b09bcb6e805",
   "metadata": {},
   "source": [
    "#### rand\n",
    "\n",
    "Gera um array de dimensão dada composto de valores aleatórios entre 0 e 1"
   ]
  },
  {
   "cell_type": "code",
   "execution_count": 29,
   "id": "3eda4bf8-03e6-4d5a-95c9-47b77c4085ed",
   "metadata": {},
   "outputs": [
    {
     "data": {
      "text/plain": [
       "array([0.9974699 , 0.91346631, 0.46935868, 0.16018225, 0.95788258])"
      ]
     },
     "execution_count": 29,
     "metadata": {},
     "output_type": "execute_result"
    }
   ],
   "source": [
    "np.random.rand(5)"
   ]
  },
  {
   "cell_type": "code",
   "execution_count": 31,
   "id": "3e054e52-900a-441c-96e2-d9c4a0deaa0f",
   "metadata": {},
   "outputs": [
    {
     "data": {
      "text/plain": [
       "array([[0.64650034, 0.44860417, 0.53906558, 0.81432463],\n",
       "       [0.54379328, 0.41859171, 0.63529829, 0.92248513],\n",
       "       [0.00631479, 0.55720208, 0.75277918, 0.2538391 ]])"
      ]
     },
     "execution_count": 31,
     "metadata": {},
     "output_type": "execute_result"
    }
   ],
   "source": [
    "np.random.rand(3,4)"
   ]
  },
  {
   "cell_type": "markdown",
   "id": "9c5894b1-7ea5-478f-b0aa-25a033fedb4e",
   "metadata": {},
   "source": [
    "#### randn\n",
    "\n",
    "Valores aleatórios provenientes de um distribuição normal."
   ]
  },
  {
   "cell_type": "code",
   "execution_count": 32,
   "id": "a7191dbb-2950-4f70-a308-1f3568d26b90",
   "metadata": {},
   "outputs": [
    {
     "data": {
      "text/plain": [
       "array([-0.8142658 , -0.51176377,  0.59204922, -0.54219751,  1.50241837])"
      ]
     },
     "execution_count": 32,
     "metadata": {},
     "output_type": "execute_result"
    }
   ],
   "source": [
    "np.random.randn(5)"
   ]
  },
  {
   "cell_type": "code",
   "execution_count": 33,
   "id": "0006b2ab-39c2-413f-be77-dc9d98b964ce",
   "metadata": {},
   "outputs": [
    {
     "data": {
      "text/plain": [
       "array([[ 0.76609612, -0.07328698,  0.72620025],\n",
       "       [-0.84053613,  0.27558777,  0.39478632]])"
      ]
     },
     "execution_count": 33,
     "metadata": {},
     "output_type": "execute_result"
    }
   ],
   "source": [
    "np.random.randn(2,3)"
   ]
  },
  {
   "cell_type": "markdown",
   "id": "468865f0-b4b9-43b5-9871-d526ba331c86",
   "metadata": {},
   "source": [
    "#### randint\n",
    "\n",
    "Gera um array com números inteiros num certo intervalo com quantidade definida."
   ]
  },
  {
   "cell_type": "code",
   "execution_count": 36,
   "id": "6a52f55d-4e7e-4709-9e8c-9287a6f5ce09",
   "metadata": {},
   "outputs": [
    {
     "data": {
      "text/plain": [
       "array([32, 42, 50, 33,  2])"
      ]
     },
     "execution_count": 36,
     "metadata": {},
     "output_type": "execute_result"
    }
   ],
   "source": [
    "inicio = 0\n",
    "fim = 100 #exclusivo\n",
    "quantidade = 5\n",
    "\n",
    "np.random.randint(inicio, fim, quantidade)"
   ]
  },
  {
   "cell_type": "markdown",
   "id": "666c89e1-b17e-4191-9a2a-7c8035404d13",
   "metadata": {},
   "source": [
    "#### seed\n",
    "\n",
    "Gera um 'random state' para que os números aleatórios permaneçam os mesmos depois de rodar o código novamente."
   ]
  },
  {
   "cell_type": "code",
   "execution_count": 38,
   "id": "7724ac66-e0b2-4d60-970b-8bad87b4c080",
   "metadata": {},
   "outputs": [
    {
     "data": {
      "text/plain": [
       "array([87, 99, 23,  2, 21, 52,  1, 87, 29, 37])"
      ]
     },
     "execution_count": 38,
     "metadata": {},
     "output_type": "execute_result"
    }
   ],
   "source": [
    "np.random.randint(0,100,10)"
   ]
  },
  {
   "cell_type": "code",
   "execution_count": 39,
   "id": "3b0dd47f-2034-4dc3-a2b9-239a0714ad6b",
   "metadata": {},
   "outputs": [
    {
     "data": {
      "text/plain": [
       "array([ 1, 63, 59, 20, 32, 75, 57, 21, 88, 48])"
      ]
     },
     "execution_count": 39,
     "metadata": {},
     "output_type": "execute_result"
    }
   ],
   "source": [
    "np.random.randint(0,100,10)"
   ]
  },
  {
   "cell_type": "markdown",
   "id": "32949495-94b0-4ce1-a2b2-6863e54c1cca",
   "metadata": {},
   "source": [
    "Como visto acima, os números aleatórios variam"
   ]
  },
  {
   "cell_type": "code",
   "execution_count": 37,
   "id": "df9f5c8c-2937-4f70-8742-8ca86106a96c",
   "metadata": {},
   "outputs": [
    {
     "data": {
      "text/plain": [
       "array([51, 92, 14, 71, 60, 20, 82, 86, 74, 74])"
      ]
     },
     "execution_count": 37,
     "metadata": {},
     "output_type": "execute_result"
    }
   ],
   "source": [
    "np.random.seed(42) #escolher qual o 'random state' desejado\n",
    "np.random.randint(0,100,10)"
   ]
  },
  {
   "cell_type": "code",
   "execution_count": 40,
   "id": "f952fa40-8439-4231-ad57-1c7450c593bb",
   "metadata": {},
   "outputs": [
    {
     "data": {
      "text/plain": [
       "array([51, 92, 14, 71, 60, 20, 82, 86, 74, 74])"
      ]
     },
     "execution_count": 40,
     "metadata": {},
     "output_type": "execute_result"
    }
   ],
   "source": [
    "np.random.seed(42)\n",
    "np.random.randint(0,100,10)"
   ]
  },
  {
   "cell_type": "markdown",
   "id": "603223b9-bf04-4a6a-875b-4fbcb7e9d657",
   "metadata": {},
   "source": [
    "escolhendo o seed desejado, os números não variam mais!"
   ]
  },
  {
   "cell_type": "markdown",
   "id": "35d6b97d-0433-4b90-b0c7-ce003fb27bba",
   "metadata": {},
   "source": [
    "### 1.4 Alguns atributos\n",
    "\n",
    "Aqui veremos algumas funções úteis para manipular os arrays e obter suas características."
   ]
  },
  {
   "cell_type": "code",
   "execution_count": 42,
   "id": "7495c389-223d-4110-918b-48c5b633ad4e",
   "metadata": {},
   "outputs": [
    {
     "data": {
      "text/plain": [
       "array([ 0,  1,  2,  3,  4,  5,  6,  7,  8,  9, 10, 11, 12, 13, 14, 15, 16,\n",
       "       17, 18, 19, 20, 21, 22, 23])"
      ]
     },
     "execution_count": 42,
     "metadata": {},
     "output_type": "execute_result"
    }
   ],
   "source": [
    "array = np.arange(0,24)\n",
    "array"
   ]
  },
  {
   "cell_type": "markdown",
   "id": "3df09e3e-1939-401b-95eb-83730f668bd1",
   "metadata": {},
   "source": [
    "#### reshape\n",
    "\n",
    "Dado o array acima, com 24 componentes, podemos gerar uma matriz ao mudar sua dimensão.\n",
    "A dimensão nova deve respeitar o número de componentes do array original. Por exemplo:\n",
    "\n",
    "- 4 linhas e 6 colunas (4x6 = 24)\n",
    "- 2 linhas e 12 colunas (2x12 = 24)\n",
    "\n",
    "entre outras!"
   ]
  },
  {
   "cell_type": "code",
   "execution_count": 43,
   "id": "7438ddeb-da7f-42e5-b18a-6f9f1f607beb",
   "metadata": {},
   "outputs": [
    {
     "data": {
      "text/plain": [
       "array([[ 0,  1,  2,  3,  4,  5],\n",
       "       [ 6,  7,  8,  9, 10, 11],\n",
       "       [12, 13, 14, 15, 16, 17],\n",
       "       [18, 19, 20, 21, 22, 23]])"
      ]
     },
     "execution_count": 43,
     "metadata": {},
     "output_type": "execute_result"
    }
   ],
   "source": [
    "array.reshape(4,6)"
   ]
  },
  {
   "cell_type": "code",
   "execution_count": 44,
   "id": "1ccbd0ef-07a8-4c89-b24a-5a311dd85ae3",
   "metadata": {},
   "outputs": [
    {
     "data": {
      "text/plain": [
       "array([[ 0,  1,  2,  3,  4,  5,  6,  7,  8,  9, 10, 11],\n",
       "       [12, 13, 14, 15, 16, 17, 18, 19, 20, 21, 22, 23]])"
      ]
     },
     "execution_count": 44,
     "metadata": {},
     "output_type": "execute_result"
    }
   ],
   "source": [
    "array.reshape(2,12)"
   ]
  },
  {
   "cell_type": "markdown",
   "id": "fc4a83ce-ad69-4c70-b76e-41193e47f61e",
   "metadata": {},
   "source": [
    "#### min, max, argmin e argmax\n",
    "- min: valor mínimo no array\n",
    "- max: valor máximo no array\n",
    "- argmin: posição do mínimo (lembrando que as posições começam do 0 --> [0, 1, 2, ... ] )\n",
    "- argmax: posição do máximo"
   ]
  },
  {
   "cell_type": "code",
   "execution_count": 51,
   "id": "2a1a6d7f-d22e-44d1-b3c3-e465c6d1de27",
   "metadata": {},
   "outputs": [
    {
     "data": {
      "text/plain": [
       "array([51, 92, 14, 71, 60, 20, 82, 86])"
      ]
     },
     "execution_count": 51,
     "metadata": {},
     "output_type": "execute_result"
    }
   ],
   "source": [
    "np.random.seed(42) #escolhendo o seed\n",
    "array = np.random.randint(0,100,8)\n",
    "array"
   ]
  },
  {
   "cell_type": "code",
   "execution_count": 52,
   "id": "d9ba1aeb-f676-4ba4-ad8c-78d0aaba750c",
   "metadata": {},
   "outputs": [
    {
     "data": {
      "text/plain": [
       "14"
      ]
     },
     "execution_count": 52,
     "metadata": {},
     "output_type": "execute_result"
    }
   ],
   "source": [
    "array.min()"
   ]
  },
  {
   "cell_type": "code",
   "execution_count": 53,
   "id": "e0462b35-b29f-4690-aa6b-a9170bd53d72",
   "metadata": {},
   "outputs": [
    {
     "data": {
      "text/plain": [
       "92"
      ]
     },
     "execution_count": 53,
     "metadata": {},
     "output_type": "execute_result"
    }
   ],
   "source": [
    "array.max()"
   ]
  },
  {
   "cell_type": "code",
   "execution_count": 54,
   "id": "e6afdd0b-7fdc-42bb-a6e3-c62a91b71a4d",
   "metadata": {},
   "outputs": [
    {
     "data": {
      "text/plain": [
       "2"
      ]
     },
     "execution_count": 54,
     "metadata": {},
     "output_type": "execute_result"
    }
   ],
   "source": [
    "array.argmin()"
   ]
  },
  {
   "cell_type": "code",
   "execution_count": 55,
   "id": "a54aaafd-394a-450e-80ce-723fe24edda0",
   "metadata": {},
   "outputs": [
    {
     "data": {
      "text/plain": [
       "1"
      ]
     },
     "execution_count": 55,
     "metadata": {},
     "output_type": "execute_result"
    }
   ],
   "source": [
    "array.argmax()"
   ]
  },
  {
   "cell_type": "markdown",
   "id": "4c019bed-78d1-40e7-aaf7-5f2787d201d8",
   "metadata": {},
   "source": [
    "#### shape\n",
    "\n",
    "Trata-se da dimensão de um array."
   ]
  },
  {
   "cell_type": "code",
   "execution_count": 56,
   "id": "9ed3ab88-d6e3-49c5-95f8-08d5e9f1aa5a",
   "metadata": {},
   "outputs": [
    {
     "data": {
      "text/plain": [
       "array([ 0,  1,  2,  3,  4,  5,  6,  7,  8,  9, 10, 11, 12, 13, 14, 15, 16,\n",
       "       17, 18, 19, 20, 21, 22, 23])"
      ]
     },
     "execution_count": 56,
     "metadata": {},
     "output_type": "execute_result"
    }
   ],
   "source": [
    "array = np.arange(0,24)\n",
    "array"
   ]
  },
  {
   "cell_type": "code",
   "execution_count": 58,
   "id": "53ae8797-ac9f-4b40-94d4-aeb3f2f4772a",
   "metadata": {},
   "outputs": [
    {
     "data": {
      "text/plain": [
       "(24,)"
      ]
     },
     "execution_count": 58,
     "metadata": {},
     "output_type": "execute_result"
    }
   ],
   "source": [
    "array.shape #24 componentes apenas"
   ]
  },
  {
   "cell_type": "code",
   "execution_count": 63,
   "id": "469ec5d0-c621-422a-ab23-c1e04ca0e459",
   "metadata": {},
   "outputs": [
    {
     "data": {
      "text/plain": [
       "array([[ 0,  1,  2,  3,  4,  5,  6,  7,  8,  9, 10, 11, 12, 13, 14, 15,\n",
       "        16, 17, 18, 19, 20, 21, 22, 23]])"
      ]
     },
     "execution_count": 63,
     "metadata": {},
     "output_type": "execute_result"
    }
   ],
   "source": [
    "array.reshape(1,24) #1 linha e 24 colunas"
   ]
  },
  {
   "cell_type": "code",
   "execution_count": 64,
   "id": "1c4abf05-f246-402d-ac2c-1fd5cc16cddf",
   "metadata": {},
   "outputs": [
    {
     "data": {
      "text/plain": [
       "(1, 24)"
      ]
     },
     "execution_count": 64,
     "metadata": {},
     "output_type": "execute_result"
    }
   ],
   "source": [
    "array.reshape(1,24).shape"
   ]
  },
  {
   "cell_type": "code",
   "execution_count": 67,
   "id": "e9daba6f-8c83-42ec-89a7-417e8a78934a",
   "metadata": {
    "tags": []
   },
   "outputs": [
    {
     "data": {
      "text/plain": [
       "array([[ 0,  1,  2,  3],\n",
       "       [ 4,  5,  6,  7],\n",
       "       [ 8,  9, 10, 11],\n",
       "       [12, 13, 14, 15],\n",
       "       [16, 17, 18, 19],\n",
       "       [20, 21, 22, 23]])"
      ]
     },
     "execution_count": 67,
     "metadata": {},
     "output_type": "execute_result"
    }
   ],
   "source": [
    "array.reshape(6,4) #6 linhas e 4 colunas"
   ]
  },
  {
   "cell_type": "code",
   "execution_count": 68,
   "id": "fc19f57f-8414-4399-a16f-b710b47e3c3c",
   "metadata": {},
   "outputs": [
    {
     "data": {
      "text/plain": [
       "(6, 4)"
      ]
     },
     "execution_count": 68,
     "metadata": {},
     "output_type": "execute_result"
    }
   ],
   "source": [
    "array.reshape(6,4).shape"
   ]
  },
  {
   "cell_type": "markdown",
   "id": "ddefbf5c-81a4-4bcc-a77c-b02f9e48dbdc",
   "metadata": {},
   "source": [
    "### 1.5 Índices e seleção\n",
    "#### Arrays\n",
    "É possível selecionar valores de um array através de seu índice/posição, bem como um conjunto num certo intervalo."
   ]
  },
  {
   "cell_type": "code",
   "execution_count": 73,
   "id": "de56835f-692c-4485-bb5b-2d63acda3de0",
   "metadata": {},
   "outputs": [],
   "source": [
    "array = np.arange(10,21,1)"
   ]
  },
  {
   "cell_type": "code",
   "execution_count": 74,
   "id": "7c7bd78e-a539-4f3d-92fa-d71fcbdce89a",
   "metadata": {},
   "outputs": [
    {
     "data": {
      "text/plain": [
       "array([10, 11, 12, 13, 14, 15, 16, 17, 18, 19, 20])"
      ]
     },
     "execution_count": 74,
     "metadata": {},
     "output_type": "execute_result"
    }
   ],
   "source": [
    "array"
   ]
  },
  {
   "cell_type": "code",
   "execution_count": 75,
   "id": "4be020ae-9714-42be-872b-81a6e127fdec",
   "metadata": {},
   "outputs": [
    {
     "data": {
      "text/plain": [
       "16"
      ]
     },
     "execution_count": 75,
     "metadata": {},
     "output_type": "execute_result"
    }
   ],
   "source": [
    "array[6] #valor que está na posição 6"
   ]
  },
  {
   "cell_type": "code",
   "execution_count": 78,
   "id": "ca4692c3-ecbb-4a37-a3c5-d95f4cb01560",
   "metadata": {},
   "outputs": [
    {
     "data": {
      "text/plain": [
       "array([11, 12, 13, 14])"
      ]
     },
     "execution_count": 78,
     "metadata": {},
     "output_type": "execute_result"
    }
   ],
   "source": [
    "array[1:5] #valores das posições 1 até 4 (não inclui o 5)"
   ]
  },
  {
   "cell_type": "code",
   "execution_count": 81,
   "id": "41279a2b-e845-4c24-9840-c8a0b4e81e50",
   "metadata": {},
   "outputs": [
    {
     "data": {
      "text/plain": [
       "array([10,  0,  0,  0, 14, 15, 16, 17,  0, 19, 20])"
      ]
     },
     "execution_count": 81,
     "metadata": {},
     "output_type": "execute_result"
    }
   ],
   "source": [
    "#ainda é possível escolher o valor de uma certa posição:\n",
    "\n",
    "array[8] = 0\n",
    "array"
   ]
  },
  {
   "cell_type": "code",
   "execution_count": 82,
   "id": "1c84b423-eceb-4335-82d4-998fb7ef9f36",
   "metadata": {},
   "outputs": [
    {
     "data": {
      "text/plain": [
       "array([10,  0,  0,  0, 14, 15, 16, 17,  0, 19, 20])"
      ]
     },
     "execution_count": 82,
     "metadata": {},
     "output_type": "execute_result"
    }
   ],
   "source": [
    "#também para um certo intervalo:\n",
    "array[1:4] = 0\n",
    "array"
   ]
  },
  {
   "cell_type": "markdown",
   "id": "84e8c9ca-34bd-43ac-a910-25000273eeaf",
   "metadata": {},
   "source": [
    "#### Matrizes\n",
    "\n",
    "Para **matrizes** basta apenas indicar a posição da linha e da coluna.\n",
    "\n",
    "a notação pode ser tanto **[linha][coluna]** quanto **[linha, coluna]**."
   ]
  },
  {
   "cell_type": "code",
   "execution_count": 83,
   "id": "2e2df0f3-06b1-4886-b264-0b8444861d8c",
   "metadata": {},
   "outputs": [],
   "source": [
    "matriz = np.array(([5,10,15],[20,25,30],[35,40,45]))"
   ]
  },
  {
   "cell_type": "code",
   "execution_count": 101,
   "id": "ab13432a-c369-414f-946b-ca01f55da3ba",
   "metadata": {},
   "outputs": [
    {
     "data": {
      "text/plain": [
       "10"
      ]
     },
     "execution_count": 101,
     "metadata": {},
     "output_type": "execute_result"
    }
   ],
   "source": [
    "matriz[0][1] #elemento da linha 0 e coluna 1"
   ]
  },
  {
   "cell_type": "code",
   "execution_count": 102,
   "id": "8ca675a5-6fe4-4977-a8cc-b7a172523ede",
   "metadata": {},
   "outputs": [
    {
     "data": {
      "text/plain": [
       "array([35, 40, 45])"
      ]
     },
     "execution_count": 102,
     "metadata": {},
     "output_type": "execute_result"
    }
   ],
   "source": [
    "matriz[2] #selecionando a linha 2 inteira"
   ]
  },
  {
   "cell_type": "code",
   "execution_count": 108,
   "id": "04558855-e725-4fe6-a8bc-f738b641654c",
   "metadata": {},
   "outputs": [
    {
     "data": {
      "text/plain": [
       "array([[10, 15],\n",
       "       [25, 30]])"
      ]
     },
     "execution_count": 108,
     "metadata": {},
     "output_type": "execute_result"
    }
   ],
   "source": [
    "matriz[:2,1:] #selecionando um pedaço da matriz"
   ]
  },
  {
   "cell_type": "markdown",
   "id": "aabdd28e-291c-466c-8cde-9c28d1930dea",
   "metadata": {},
   "source": [
    "#### Seleção condicional\n",
    "\n",
    "É possível usar uma condição para selecionar os valores do array:"
   ]
  },
  {
   "cell_type": "code",
   "execution_count": 113,
   "id": "56b10754-4eff-4078-bd2c-fb4edbbf10f1",
   "metadata": {},
   "outputs": [],
   "source": [
    "array = np.arange(10,21)"
   ]
  },
  {
   "cell_type": "code",
   "execution_count": 114,
   "id": "6802ef07-f463-4840-8f86-472edbde57c9",
   "metadata": {},
   "outputs": [
    {
     "data": {
      "text/plain": [
       "array([False, False, False, False,  True,  True,  True,  True,  True,\n",
       "        True,  True])"
      ]
     },
     "execution_count": 114,
     "metadata": {},
     "output_type": "execute_result"
    }
   ],
   "source": [
    "array > 13"
   ]
  },
  {
   "cell_type": "code",
   "execution_count": 115,
   "id": "1a69f64e-926c-43eb-8f94-660e08641117",
   "metadata": {},
   "outputs": [
    {
     "data": {
      "text/plain": [
       "array([14, 15, 16, 17, 18, 19, 20])"
      ]
     },
     "execution_count": 115,
     "metadata": {},
     "output_type": "execute_result"
    }
   ],
   "source": [
    "array[array>13]"
   ]
  },
  {
   "cell_type": "code",
   "execution_count": 117,
   "id": "4c971990-8e79-4378-b766-27f01d0594e2",
   "metadata": {},
   "outputs": [
    {
     "data": {
      "text/plain": [
       "array([10, 11, 12])"
      ]
     },
     "execution_count": 117,
     "metadata": {},
     "output_type": "execute_result"
    }
   ],
   "source": [
    "array[array<13]"
   ]
  },
  {
   "cell_type": "markdown",
   "id": "3d573657-7169-4590-a393-0ad63dc87b36",
   "metadata": {},
   "source": [
    "## 2. Operações com NumPy\n",
    "\n",
    "Operações matemáticas com os arrays:\n",
    "\n",
    "\n",
    "### 2.1 Operações simples"
   ]
  },
  {
   "cell_type": "code",
   "execution_count": 121,
   "id": "ada5fe09-6b0c-412a-9e5b-2cad80744f59",
   "metadata": {},
   "outputs": [],
   "source": [
    "array = np.arange(1,11)"
   ]
  },
  {
   "cell_type": "code",
   "execution_count": 122,
   "id": "c19e97b3-e484-4592-80c8-027031befd1f",
   "metadata": {},
   "outputs": [
    {
     "data": {
      "text/plain": [
       "array([ 1,  2,  3,  4,  5,  6,  7,  8,  9, 10])"
      ]
     },
     "execution_count": 122,
     "metadata": {},
     "output_type": "execute_result"
    }
   ],
   "source": [
    "array"
   ]
  },
  {
   "cell_type": "code",
   "execution_count": 123,
   "id": "5a67e96a-7680-4dab-91ec-9bdf7d8433f6",
   "metadata": {},
   "outputs": [
    {
     "data": {
      "text/plain": [
       "array([ 2,  3,  4,  5,  6,  7,  8,  9, 10, 11])"
      ]
     },
     "execution_count": 123,
     "metadata": {},
     "output_type": "execute_result"
    }
   ],
   "source": [
    "array + 1"
   ]
  },
  {
   "cell_type": "code",
   "execution_count": 125,
   "id": "fcd4ef55-d248-4d53-b81b-57e6c827657b",
   "metadata": {},
   "outputs": [
    {
     "data": {
      "text/plain": [
       "array([0, 1, 2, 3, 4, 5, 6, 7, 8, 9])"
      ]
     },
     "execution_count": 125,
     "metadata": {},
     "output_type": "execute_result"
    }
   ],
   "source": [
    "array - 1"
   ]
  },
  {
   "cell_type": "code",
   "execution_count": 128,
   "id": "9f3fc1ec-3b36-4502-8338-46ead1198277",
   "metadata": {},
   "outputs": [
    {
     "data": {
      "text/plain": [
       "array([ 2,  4,  6,  8, 10, 12, 14, 16, 18, 20])"
      ]
     },
     "execution_count": 128,
     "metadata": {},
     "output_type": "execute_result"
    }
   ],
   "source": [
    "array*2"
   ]
  },
  {
   "cell_type": "code",
   "execution_count": 130,
   "id": "5a07eb99-f687-44e1-a8a4-893772e4eb15",
   "metadata": {},
   "outputs": [
    {
     "data": {
      "text/plain": [
       "array([0.5, 1. , 1.5, 2. , 2.5, 3. , 3.5, 4. , 4.5, 5. ])"
      ]
     },
     "execution_count": 130,
     "metadata": {},
     "output_type": "execute_result"
    }
   ],
   "source": [
    "array/2"
   ]
  },
  {
   "cell_type": "code",
   "execution_count": 132,
   "id": "cfa90a01-0742-465d-88ee-1f6616ff2c35",
   "metadata": {},
   "outputs": [
    {
     "data": {
      "text/plain": [
       "array([   1,    8,   27,   64,  125,  216,  343,  512,  729, 1000],\n",
       "      dtype=int32)"
      ]
     },
     "execution_count": 132,
     "metadata": {},
     "output_type": "execute_result"
    }
   ],
   "source": [
    "array**3"
   ]
  },
  {
   "cell_type": "code",
   "execution_count": 133,
   "id": "c2c7ea20-af01-4242-967a-44310d15f8b6",
   "metadata": {},
   "outputs": [
    {
     "data": {
      "text/plain": [
       "array([ 2,  4,  6,  8, 10, 12, 14, 16, 18, 20])"
      ]
     },
     "execution_count": 133,
     "metadata": {},
     "output_type": "execute_result"
    }
   ],
   "source": [
    "array + array"
   ]
  },
  {
   "cell_type": "code",
   "execution_count": 134,
   "id": "47c1136b-4eb6-4fce-8f79-396cbc81f608",
   "metadata": {},
   "outputs": [
    {
     "data": {
      "text/plain": [
       "array([1., 1., 1., 1., 1., 1., 1., 1., 1., 1.])"
      ]
     },
     "execution_count": 134,
     "metadata": {},
     "output_type": "execute_result"
    }
   ],
   "source": [
    "array/array"
   ]
  },
  {
   "cell_type": "code",
   "execution_count": 135,
   "id": "d6e5920e-be4b-4cea-afb5-1db67a27daa9",
   "metadata": {},
   "outputs": [
    {
     "data": {
      "text/plain": [
       "array([         1,          4,         27,        256,       3125,\n",
       "            46656,     823543,   16777216,  387420489, 1410065408])"
      ]
     },
     "execution_count": 135,
     "metadata": {},
     "output_type": "execute_result"
    }
   ],
   "source": [
    "array**array"
   ]
  },
  {
   "cell_type": "code",
   "execution_count": 143,
   "id": "80e12ea5-9d91-4e54-bdb9-745bcf21995d",
   "metadata": {},
   "outputs": [],
   "source": [
    "matriz = np.array([[1,2,3],[4,5,6],[7,8,9]])\n",
    "identidade = np.eye(3) #matriz identidade 3x3"
   ]
  },
  {
   "cell_type": "code",
   "execution_count": 144,
   "id": "9cabe8f1-72ec-4103-ba51-54e4a19e2d38",
   "metadata": {},
   "outputs": [
    {
     "data": {
      "text/plain": [
       "array([[ 2,  4,  6],\n",
       "       [ 8, 10, 12],\n",
       "       [14, 16, 18]])"
      ]
     },
     "execution_count": 144,
     "metadata": {},
     "output_type": "execute_result"
    }
   ],
   "source": [
    "matriz*2"
   ]
  },
  {
   "cell_type": "markdown",
   "id": "132e1f35-1a32-44ed-86bd-c3f951aa850d",
   "metadata": {},
   "source": [
    "Para multiplicar matrizes, devemos usar a função matmul do numpy. Caso contrário, só haverá multiplicação entre os elementos de mesma linha e coluna.\n",
    "\n",
    "A multiplicação entre uma matriz e a matriz identidade deve gerar a própria matriz:"
   ]
  },
  {
   "cell_type": "code",
   "execution_count": 140,
   "id": "5ee6c3a4-5119-4bac-804b-8868a0e35db9",
   "metadata": {},
   "outputs": [
    {
     "data": {
      "text/plain": [
       "array([[1., 2., 3.],\n",
       "       [4., 5., 6.],\n",
       "       [7., 8., 9.]])"
      ]
     },
     "execution_count": 140,
     "metadata": {},
     "output_type": "execute_result"
    }
   ],
   "source": [
    "np.matmul(matriz, identidade)"
   ]
  },
  {
   "cell_type": "code",
   "execution_count": 145,
   "id": "8b700ebe-be9d-49f5-9aee-2f2233dce97e",
   "metadata": {},
   "outputs": [
    {
     "data": {
      "text/plain": [
       "array([[1., 0., 0.],\n",
       "       [0., 5., 0.],\n",
       "       [0., 0., 9.]])"
      ]
     },
     "execution_count": 145,
     "metadata": {},
     "output_type": "execute_result"
    }
   ],
   "source": [
    "matriz*identidade #a multiplicação simples não funciona aqui"
   ]
  },
  {
   "cell_type": "markdown",
   "id": "e2eb983e-9cca-4213-bfa1-be13c44d0ec4",
   "metadata": {},
   "source": [
    "### 2.2 Demais operações\n",
    "\n",
    "Algumas das funções presentes no NumPy"
   ]
  },
  {
   "cell_type": "code",
   "execution_count": 147,
   "id": "d8e1ed87-b777-4d32-bcbf-fc15045db1b4",
   "metadata": {},
   "outputs": [
    {
     "data": {
      "text/plain": [
       "array([1.        , 1.41421356, 1.73205081, 2.        , 2.23606798,\n",
       "       2.44948974, 2.64575131, 2.82842712, 3.        , 3.16227766])"
      ]
     },
     "execution_count": 147,
     "metadata": {},
     "output_type": "execute_result"
    }
   ],
   "source": [
    "np.sqrt(array) #retorna a raiz quadrada"
   ]
  },
  {
   "cell_type": "code",
   "execution_count": 148,
   "id": "306ad865-93ba-4265-b7c2-5d640ba64a76",
   "metadata": {},
   "outputs": [
    {
     "data": {
      "text/plain": [
       "array([2.71828183e+00, 7.38905610e+00, 2.00855369e+01, 5.45981500e+01,\n",
       "       1.48413159e+02, 4.03428793e+02, 1.09663316e+03, 2.98095799e+03,\n",
       "       8.10308393e+03, 2.20264658e+04])"
      ]
     },
     "execution_count": 148,
     "metadata": {},
     "output_type": "execute_result"
    }
   ],
   "source": [
    "np.exp(array) #retorna os exponenciais (e^número)"
   ]
  },
  {
   "cell_type": "code",
   "execution_count": 150,
   "id": "ee84d9b9-3503-4a5b-9268-57c90b8b9a85",
   "metadata": {},
   "outputs": [
    {
     "data": {
      "text/plain": [
       "array([ 0.84147098,  0.90929743,  0.14112001, -0.7568025 , -0.95892427,\n",
       "       -0.2794155 ,  0.6569866 ,  0.98935825,  0.41211849, -0.54402111])"
      ]
     },
     "execution_count": 150,
     "metadata": {},
     "output_type": "execute_result"
    }
   ],
   "source": [
    "np.sin(array) #retorna os senos"
   ]
  },
  {
   "cell_type": "code",
   "execution_count": 151,
   "id": "53557ab1-4125-49b9-bfee-e2272406d26b",
   "metadata": {},
   "outputs": [
    {
     "data": {
      "text/plain": [
       "array([0.        , 0.69314718, 1.09861229, 1.38629436, 1.60943791,\n",
       "       1.79175947, 1.94591015, 2.07944154, 2.19722458, 2.30258509])"
      ]
     },
     "execution_count": 151,
     "metadata": {},
     "output_type": "execute_result"
    }
   ],
   "source": [
    "np.log(array) #retorna os logarítmos naturais"
   ]
  },
  {
   "cell_type": "markdown",
   "id": "8b5637dd-32e8-4f66-82c2-c75a9f303654",
   "metadata": {},
   "source": [
    "### 2.3 Estatísticas"
   ]
  },
  {
   "cell_type": "code",
   "execution_count": 152,
   "id": "835c395a-8321-427b-8f49-b08e184fdc38",
   "metadata": {},
   "outputs": [
    {
     "data": {
      "text/plain": [
       "55"
      ]
     },
     "execution_count": 152,
     "metadata": {},
     "output_type": "execute_result"
    }
   ],
   "source": [
    "array.sum() #soma dos valores"
   ]
  },
  {
   "cell_type": "code",
   "execution_count": 153,
   "id": "d7db791f-6916-4b09-ac85-836e45b7ce14",
   "metadata": {},
   "outputs": [
    {
     "data": {
      "text/plain": [
       "5.5"
      ]
     },
     "execution_count": 153,
     "metadata": {},
     "output_type": "execute_result"
    }
   ],
   "source": [
    "array.mean() #média dos valores"
   ]
  },
  {
   "cell_type": "code",
   "execution_count": 154,
   "id": "ebc333fb-cd0c-4242-9a15-93bc85f70dad",
   "metadata": {},
   "outputs": [
    {
     "data": {
      "text/plain": [
       "8.25"
      ]
     },
     "execution_count": 154,
     "metadata": {},
     "output_type": "execute_result"
    }
   ],
   "source": [
    "array.var() #variância"
   ]
  },
  {
   "cell_type": "code",
   "execution_count": 155,
   "id": "cf68520c-a832-45b1-a0ed-fea963d8a0d5",
   "metadata": {},
   "outputs": [
    {
     "data": {
      "text/plain": [
       "2.8722813232690143"
      ]
     },
     "execution_count": 155,
     "metadata": {},
     "output_type": "execute_result"
    }
   ],
   "source": [
    "array.std() #desvio-padrão"
   ]
  }
 ],
 "metadata": {
  "kernelspec": {
   "display_name": "tf_py39",
   "language": "python",
   "name": "tf_py39"
  },
  "language_info": {
   "codemirror_mode": {
    "name": "ipython",
    "version": 3
   },
   "file_extension": ".py",
   "mimetype": "text/x-python",
   "name": "python",
   "nbconvert_exporter": "python",
   "pygments_lexer": "ipython3",
   "version": "3.9.12"
  }
 },
 "nbformat": 4,
 "nbformat_minor": 5
}
